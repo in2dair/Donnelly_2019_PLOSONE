{
 "cells": [
  {
   "cell_type": "markdown",
   "metadata": {},
   "source": [
    "ANALYSIS NOTEBOOK  - DONNELLY 2019 PLOS ONE\n",
    "\n",
    "Patrick M. Donnelly  \n",
    "\n",
    "University of Washington\n",
    "\n",
    "JULY 7, 2020"
   ]
  },
  {
   "cell_type": "code",
   "execution_count": 1,
   "metadata": {},
   "outputs": [],
   "source": [
    "# import necessary databases and libraries\n",
    "import pandas as pd\n",
    "import numpy as np\n",
    "from scipy import stats"
   ]
  },
  {
   "cell_type": "code",
   "execution_count": 2,
   "metadata": {},
   "outputs": [],
   "source": [
    "# plot inline figures\n",
    "%matplotlib inline\n",
    "import matplotlib.pyplot as plt\n",
    "plt.style.use('seaborn-whitegrid')\n",
    "import numpy as np\n",
    "from scipy.stats import linregress\n",
    "from matplotlib import cm\n",
    "#from colorspacious import cspace_converter\n",
    "from collections import OrderedDict\n",
    "cmaps = OrderedDict()\n",
    "plt.rcParams['pdf.fonttype'] = 42\n",
    "from numpy.polynomial.polynomial import polyfit"
   ]
  },
  {
   "cell_type": "code",
   "execution_count": 3,
   "metadata": {},
   "outputs": [],
   "source": [
    "# pull data from data folder in repository\n",
    "data = pd.read_csv('data/data.csv')"
   ]
  },
  {
   "cell_type": "code",
   "execution_count": 10,
   "metadata": {},
   "outputs": [],
   "source": [
    "# separate data into figure-specific dataframes\n",
    "passage_data = data[['pigs_casecontrol', 'study_name', 'short_first_time', \n",
    "                          'short_first_acc', 'short_first_rate', 'long_first_time', \n",
    "                          'long_first_acc','long_first_rate', 'short_second_time', \n",
    "                          'short_second_acc', 'short_second_rate', \n",
    "                          'long_second_time', 'long_second_acc', 'long_second_rate']]\n",
    "passage_diff_data = data[['pigs_casecontrol', 'study_name', 'first_acc_diff', 'second_rate_diff']]\n",
    "wordlist_data = data[['pigs_casecontrol', 'study_name','word_time', 'word_acc', 'word_rate',\n",
    "                           'pseudo_time', 'pseudo_acc', 'pseudo_rate']]\n",
    "wordlist_acc_data = data[['record_id', 'int_session', 'pigs_casecontrol', \n",
    "                               'study_name','pigs_word1_acc', 'pigs_word2_acc', \n",
    "                               'pigs_pseudo1_acc', 'pigs_pseudo2_acc']]\n",
    "wordlist_acc_diff_data = data[['pigs_casecontrol', 'word_acc_diff', 'pseudo_acc_diff']]\n",
    "wordlist_rate_data = data[['pigs_casecontrol', 'study_name', 'word_rate','pseudo_rate']]\n",
    "matlab_data = data[['record_id', 'int_session', 'pigs_casecontrol', \n",
    "                               'study_name','pigs_word1_acc', 'pigs_word2_acc', \n",
    "                               'pigs_pseudo1_acc', 'pigs_pseudo2_acc','first_acc', 'second_rate', 'wj_brs', 'twre_index',\n",
    "                         'ctopp_rapid','pigs_practice_numstories']]\n",
    "first_accuracy = data[['pigs_casecontrol', 'study_name','short_first_acc',\n",
    "                          'long_first_acc', 'first_acc_diff']]\n",
    "second_rate = data[['pigs_casecontrol', 'study_name', 'short_second_rate', 'long_second_rate', 'second_rate_diff']]\n",
    "predictor_data = data[['pigs_casecontrol', 'study_name','visit_age', 'word_acc_diff', 'pseudo_acc_diff', \n",
    "                            'first_acc_diff', 'second_rate_diff', 'ctopp_pa', 'ctopp_pm','ctopp_rapid', 'wasi_fs2']]\n"
   ]
  },
  {
   "cell_type": "code",
   "execution_count": 5,
   "metadata": {},
   "outputs": [
    {
     "data": {
      "text/plain": [
       "(-2, 3)"
      ]
     },
     "execution_count": 5,
     "metadata": {},
     "output_type": "execute_result"
    },
    {
     "data": {
      "image/png": "[encoded data removed]",
      "text/plain": [
       "<Figure size 144x216 with 1 Axes>"
      ]
     },
     "metadata": {},
     "output_type": "display_data"
    }
   ],
   "source": [
    "#Plot figure 2B\n",
    "wordlist_acc_diff_grouped = wordlist_acc_diff_data.groupby(['pigs_casecontrol'])['word_acc_diff'].mean()\n",
    "wl_acc_diff_grpd_error = wordlist_acc_diff_data.groupby(['pigs_casecontrol'])['word_acc_diff'].sem()\n",
    "fig1 = wordlist_acc_diff_grouped.plot(kind='bar', yerr=wl_acc_diff_grpd_error, \n",
    "                                      legend=False, title='Real Word Decoding', \n",
    "                                      rot=0, figsize=(2,3), color=['grey', 'green'])\n",
    "fig1.set_xlabel('Group')\n",
    "fig1.set_ylabel('Benefit (addl words read)')\n",
    "fig1.set_xticklabels(['Control', 'Intervention']), \n",
    "fig1.set_ylim([-2,3])"
   ]
  },
  {
   "cell_type": "code",
   "execution_count": 6,
   "metadata": {},
   "outputs": [
    {
     "data": {
      "text/plain": [
       "(-2, 3)"
      ]
     },
     "execution_count": 6,
     "metadata": {},
     "output_type": "execute_result"
    },
    {
     "data": {
      "image/png": "[encoded data removed]",
      "text/plain": [
       "<Figure size 144x216 with 1 Axes>"
      ]
     },
     "metadata": {},
     "output_type": "display_data"
    }
   ],
   "source": [
    "# Plot figure 2C\n",
    "wordlist_acc_diff_grouped = wordlist_acc_diff_data.groupby(['pigs_casecontrol'])['pseudo_acc_diff'].mean()\n",
    "wl_acc_diff_grpd_error = wordlist_acc_diff_data.groupby(['pigs_casecontrol'])['pseudo_acc_diff'].sem()\n",
    "fig2 = wordlist_acc_diff_grouped.plot(kind='bar', yerr=wl_acc_diff_grpd_error, \n",
    "                                      legend=False, figsize=(2,3), fontsize=10, \n",
    "                                      color=['grey', 'green'], title='Pseudo Word Decoding',\n",
    "                                      rot=0)\n",
    "fig2.set_xlabel('Group')\n",
    "fig2.set_ylabel('Benefit (addl words read)')\n",
    "fig2.set_xticklabels(['Control', 'Intervention'])\n",
    "fig2.set_ylim([-2,3])"
   ]
  },
  {
   "cell_type": "code",
   "execution_count": 7,
   "metadata": {},
   "outputs": [
    {
     "data": {
      "text/plain": [
       "(0, 0.075)"
      ]
     },
     "execution_count": 7,
     "metadata": {},
     "output_type": "execute_result"
    },
    {
     "data": {
      "image/png": "[encoded data removed]",
      "text/plain": [
       "<Figure size 144x216 with 1 Axes>"
      ]
     },
     "metadata": {},
     "output_type": "display_data"
    }
   ],
   "source": [
    "# plot figure 3A\n",
    "acc_grouped = passage_diff_data.groupby(['pigs_casecontrol'])[ 'first_acc_diff'].mean()\n",
    "acc_grouped_error = passage_diff_data.groupby(['pigs_casecontrol'])[ 'first_acc_diff'].sem()\n",
    "\n",
    "first_acc = acc_grouped.plot(kind='bar',color=['grey', 'green'],figsize=(2,3),\n",
    "                             yerr=acc_grouped_error, title='Passage Reading Accuracy', rot=0)\n",
    "first_acc.set_xlabel('Group')\n",
    "first_acc.set_ylabel('Gain in Words')\n",
    "#short_acc.legend(loc='upper left', labels=('Short Passages', 'Long Passages'))\n",
    "first_acc.set_xticklabels(['Control', 'Intervention'])\n",
    "first_acc.set_ylim([0,0.075])"
   ]
  },
  {
   "cell_type": "code",
   "execution_count": 8,
   "metadata": {},
   "outputs": [
    {
     "data": {
      "text/plain": [
       "(0, 0.075)"
      ]
     },
     "execution_count": 8,
     "metadata": {},
     "output_type": "execute_result"
    },
    {
     "data": {
      "image/png": "[encoded data removed]",
      "text/plain": [
       "<Figure size 144x216 with 1 Axes>"
      ]
     },
     "metadata": {},
     "output_type": "display_data"
    }
   ],
   "source": [
    "# Plot figure 3B\n",
    "rate_grouped = passage_diff_data.groupby(['pigs_casecontrol'])['second_rate_diff'].mean()\n",
    "rate_grouped_error = passage_diff_data.groupby(['pigs_casecontrol'])['second_rate_diff'].sem()\n",
    "\n",
    "rate = rate_grouped.plot(kind='bar', yerr=rate_grouped_error, figsize=(2,3),\n",
    "                         title='Passage Reading Rate', rot=0, color=['grey', 'green'])\n",
    "rate.set_xlabel('Group')\n",
    "rate.set_ylabel('Gain in Words per Minute')\n",
    "#rate.legend(loc='upper left', labels=('Short Passages', 'Long Passages'))\n",
    "rate.set_xticklabels(['Control', 'Intervention'])\n",
    "rate.set_ylim([0,0.075])"
   ]
  },
  {
   "cell_type": "code",
   "execution_count": null,
   "metadata": {},
   "outputs": [],
   "source": []
  }
 ],
 "metadata": {
  "kernelspec": {
   "display_name": "Python 3",
   "language": "python",
   "name": "python3"
  },
  "language_info": {
   "codemirror_mode": {
    "name": "ipython",
    "version": 3
   },
   "file_extension": ".py",
   "mimetype": "text/x-python",
   "name": "python",
   "nbconvert_exporter": "python",
   "pygments_lexer": "ipython3",
   "version": "3.7.6"
  }
 },
 "nbformat": 4,
 "nbformat_minor": 2
}
